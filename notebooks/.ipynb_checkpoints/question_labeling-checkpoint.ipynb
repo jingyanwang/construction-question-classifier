{
 "cells": [
  {
   "cell_type": "code",
   "execution_count": 1,
   "id": "b7b69bcb-f4f9-45f1-b59c-a877baaf1288",
   "metadata": {},
   "outputs": [],
   "source": [
    "import pandas as pd\n",
    "import json"
   ]
  },
  {
   "cell_type": "markdown",
   "id": "0515dccb-9694-4d10-a4b0-e5b0fde177a6",
   "metadata": {},
   "source": [
    "# question labels"
   ]
  },
  {
   "cell_type": "code",
   "execution_count": null,
   "id": "cbf172b7-9c26-4a0d-85b0-99aad9a9de24",
   "metadata": {},
   "outputs": [],
   "source": [
    "labels = [\"Document Request\",\n",
    "\"Material or Product Information\",\n",
    "\"Specifications and Standards\",\n",
    "\"Installation and Construction Details\",\n",
    "\"Ownership or Responsibility\",\n",
    "\"Quantities and Progress Tracking\",\n",
    "\"Maintenance and Turnover\",\n",
    "\"Translation Request\",\n",
    "\"Schedule and Timeline\",\n",
    "\"Miscellaneous Queries\"]"
   ]
  },
  {
   "cell_type": "markdown",
   "id": "f35ecc47-2b6c-4421-b68b-186a2a010130",
   "metadata": {},
   "source": [
    "# load the zero-shot classifier"
   ]
  },
  {
   "cell_type": "code",
   "execution_count": 2,
   "id": "47ea2264-b37d-4b0c-8932-58d2de7798b4",
   "metadata": {},
   "outputs": [
    {
     "name": "stderr",
     "output_type": "stream",
     "text": [
      "Device set to use cpu\n"
     ]
    }
   ],
   "source": [
    "from transformers import pipeline\n",
    "\n",
    "classifier = pipeline(\n",
    "\"zero-shot-classification\",\n",
    "model=\"facebook/bart-large-mnli\")"
   ]
  },
  {
   "cell_type": "code",
   "execution_count": 3,
   "id": "6849b5a9-7e3a-46f8-beef-338ddfe6b2c1",
   "metadata": {},
   "outputs": [],
   "source": [
    "def question_label_annotation(\n",
    "\ttext: str\n",
    "\t) -> dict:\n",
    "\ttry:\n",
    "\t\tclassification_response = classifier(text, labels)\n",
    "\t\tresult_list = [{'label': label, 'score': score} for label, score in zip(classification_response['labels'], classification_response['scores'])]\n",
    "\t\tresult_list_sorted = sorted(result_list, key=lambda x: x['score'], reverse=True)\n",
    "\t\treturn result_list_sorted[0]\n",
    "\texcept:\n",
    "\t\treturn None"
   ]
  },
  {
   "cell_type": "code",
   "execution_count": 4,
   "id": "691ad395-ec6c-407f-8b32-ca5bab605bde",
   "metadata": {},
   "outputs": [
    {
     "data": {
      "text/plain": [
       "{'label': 'Document Request', 'score': 0.5063319802284241}"
      ]
     },
     "execution_count": 4,
     "metadata": {},
     "output_type": "execute_result"
    }
   ],
   "source": [
    "question_label_annotation(\n",
    "\ttext = \"show me the RFI\"\n",
    "\t)"
   ]
  },
  {
   "cell_type": "markdown",
   "id": "30c01f9f-ebd7-4da3-a004-29826e9102f9",
   "metadata": {},
   "source": [
    "# load the question data"
   ]
  },
  {
   "cell_type": "code",
   "execution_count": 5,
   "id": "aba5d1b7-b507-462a-9a55-d9cd767deeaf",
   "metadata": {},
   "outputs": [],
   "source": [
    "# Define the path to your JSON file\n",
    "json_file_path = '../data/questions.json'\n",
    "\n",
    "# Read the JSON file into a DataFrame\n",
    "with open(json_file_path, 'r') as file:\n",
    "    data = json.load(file)\n",
    "\n",
    "df = pd.DataFrame(data)"
   ]
  },
  {
   "cell_type": "code",
   "execution_count": 6,
   "id": "7ac7d2fc-d9ac-464a-82d7-663622c4f455",
   "metadata": {},
   "outputs": [
    {
     "data": {
      "text/html": [
       "<div>\n",
       "<style scoped>\n",
       "    .dataframe tbody tr th:only-of-type {\n",
       "        vertical-align: middle;\n",
       "    }\n",
       "\n",
       "    .dataframe tbody tr th {\n",
       "        vertical-align: top;\n",
       "    }\n",
       "\n",
       "    .dataframe thead th {\n",
       "        text-align: right;\n",
       "    }\n",
       "</style>\n",
       "<table border=\"1\" class=\"dataframe\">\n",
       "  <thead>\n",
       "    <tr style=\"text-align: right;\">\n",
       "      <th></th>\n",
       "      <th>question_text</th>\n",
       "      <th>created_at</th>\n",
       "      <th>user_id</th>\n",
       "    </tr>\n",
       "  </thead>\n",
       "  <tbody>\n",
       "    <tr>\n",
       "      <th>0</th>\n",
       "      <td>What is the thickness of the drywall in the re...</td>\n",
       "      <td>2024-01-19 15:56:34.383+00</td>\n",
       "      <td>64201228-e558-4722-962e-69c831e1ea8f</td>\n",
       "    </tr>\n",
       "    <tr>\n",
       "      <th>1</th>\n",
       "      <td>How many filters does JCI owe in their contract?</td>\n",
       "      <td>2023-11-08 16:06:17.035+00</td>\n",
       "      <td>64201228-e558-4722-962e-69c831e1ea8f</td>\n",
       "    </tr>\n",
       "    <tr>\n",
       "      <th>2</th>\n",
       "      <td>what CB will the changes resulting from RFI 18...</td>\n",
       "      <td>2024-01-10 14:22:33.006+00</td>\n",
       "      <td>4f697825-9bb6-4fa6-b3ab-a46dc6d42919</td>\n",
       "    </tr>\n",
       "    <tr>\n",
       "      <th>3</th>\n",
       "      <td>What's the flooring type in the penthouse?</td>\n",
       "      <td>2024-01-10 20:55:19.668+00</td>\n",
       "      <td>fcad35ff-bb4b-435d-84f9-2f3b00c24f57</td>\n",
       "    </tr>\n",
       "    <tr>\n",
       "      <th>4</th>\n",
       "      <td>what CB will the changes resulting from RFI 18...</td>\n",
       "      <td>2024-01-16 21:36:23.569+00</td>\n",
       "      <td>4f697825-9bb6-4fa6-b3ab-a46dc6d42919</td>\n",
       "    </tr>\n",
       "    <tr>\n",
       "      <th>...</th>\n",
       "      <td>...</td>\n",
       "      <td>...</td>\n",
       "      <td>...</td>\n",
       "    </tr>\n",
       "    <tr>\n",
       "      <th>550</th>\n",
       "      <td>What are the finishes at the balconies?</td>\n",
       "      <td>2024-03-22 18:05:50.325+00</td>\n",
       "      <td>2fa78a12-f3c1-44c7-ad74-dacee0caab46</td>\n",
       "    </tr>\n",
       "    <tr>\n",
       "      <th>551</th>\n",
       "      <td>How many building 2 observations for framing a...</td>\n",
       "      <td>2024-03-26 17:07:22.58+00</td>\n",
       "      <td>e7cd71a5-a10c-4b25-b794-5c88f8560dc5</td>\n",
       "    </tr>\n",
       "    <tr>\n",
       "      <th>552</th>\n",
       "      <td>Who is responsible for caulking between counte...</td>\n",
       "      <td>2024-03-22 12:53:03.535+00</td>\n",
       "      <td>50ad58a0-da8d-49d1-9d07-8a62eac815c4</td>\n",
       "    </tr>\n",
       "    <tr>\n",
       "      <th>553</th>\n",
       "      <td>For stucco, What is senerflex?</td>\n",
       "      <td>2024-03-22 18:09:16.862+00</td>\n",
       "      <td>2fa78a12-f3c1-44c7-ad74-dacee0caab46</td>\n",
       "    </tr>\n",
       "    <tr>\n",
       "      <th>554</th>\n",
       "      <td>How many ceiling fans are there?</td>\n",
       "      <td>2024-03-26 20:13:30.238+00</td>\n",
       "      <td>e7cd71a5-a10c-4b25-b794-5c88f8560dc5</td>\n",
       "    </tr>\n",
       "  </tbody>\n",
       "</table>\n",
       "<p>555 rows × 3 columns</p>\n",
       "</div>"
      ],
      "text/plain": [
       "                                         question_text  \\\n",
       "0    What is the thickness of the drywall in the re...   \n",
       "1     How many filters does JCI owe in their contract?   \n",
       "2    what CB will the changes resulting from RFI 18...   \n",
       "3           What's the flooring type in the penthouse?   \n",
       "4    what CB will the changes resulting from RFI 18...   \n",
       "..                                                 ...   \n",
       "550            What are the finishes at the balconies?   \n",
       "551  How many building 2 observations for framing a...   \n",
       "552  Who is responsible for caulking between counte...   \n",
       "553                     For stucco, What is senerflex?   \n",
       "554                   How many ceiling fans are there?   \n",
       "\n",
       "                     created_at                               user_id  \n",
       "0    2024-01-19 15:56:34.383+00  64201228-e558-4722-962e-69c831e1ea8f  \n",
       "1    2023-11-08 16:06:17.035+00  64201228-e558-4722-962e-69c831e1ea8f  \n",
       "2    2024-01-10 14:22:33.006+00  4f697825-9bb6-4fa6-b3ab-a46dc6d42919  \n",
       "3    2024-01-10 20:55:19.668+00  fcad35ff-bb4b-435d-84f9-2f3b00c24f57  \n",
       "4    2024-01-16 21:36:23.569+00  4f697825-9bb6-4fa6-b3ab-a46dc6d42919  \n",
       "..                          ...                                   ...  \n",
       "550  2024-03-22 18:05:50.325+00  2fa78a12-f3c1-44c7-ad74-dacee0caab46  \n",
       "551   2024-03-26 17:07:22.58+00  e7cd71a5-a10c-4b25-b794-5c88f8560dc5  \n",
       "552  2024-03-22 12:53:03.535+00  50ad58a0-da8d-49d1-9d07-8a62eac815c4  \n",
       "553  2024-03-22 18:09:16.862+00  2fa78a12-f3c1-44c7-ad74-dacee0caab46  \n",
       "554  2024-03-26 20:13:30.238+00  e7cd71a5-a10c-4b25-b794-5c88f8560dc5  \n",
       "\n",
       "[555 rows x 3 columns]"
      ]
     },
     "execution_count": 6,
     "metadata": {},
     "output_type": "execute_result"
    }
   ],
   "source": [
    "df"
   ]
  },
  {
   "cell_type": "markdown",
   "id": "d79ac7b4-fef5-4bd7-a411-c5f3861d43fd",
   "metadata": {},
   "source": [
    "# inference of the category"
   ]
  },
  {
   "cell_type": "code",
   "execution_count": 7,
   "id": "cec34e70-6b42-4e7f-84ec-fb9975c490e7",
   "metadata": {},
   "outputs": [
    {
     "name": "stdout",
     "output_type": "stream",
     "text": [
      "CPU times: user 2h 13min 34s, sys: 6.94 s, total: 2h 13min 41s\n",
      "Wall time: 16min 43s\n"
     ]
    }
   ],
   "source": [
    "%%time\n",
    "\n",
    "df['category'] = df['question_text'].apply(question_label_annotation)"
   ]
  },
  {
   "cell_type": "markdown",
   "id": "9cb65ec4-011d-418b-b1fb-fc82f1c83b8a",
   "metadata": {},
   "source": [
    "# save the results"
   ]
  },
  {
   "cell_type": "code",
   "execution_count": 8,
   "id": "476c7ff8-3228-4cd6-a6a7-f9c85f001e7c",
   "metadata": {},
   "outputs": [],
   "source": [
    "df_expanded = pd.concat([df.drop(columns='category'), df['category'].apply(pd.Series)], axis=1)"
   ]
  },
  {
   "cell_type": "code",
   "execution_count": 9,
   "id": "39d1a448-f49e-4864-9e9b-3fc1383edb45",
   "metadata": {},
   "outputs": [],
   "source": [
    "df_expanded.to_json('../data/question_labels.json', orient=\"records\", lines=False, indent=4)"
   ]
  },
  {
   "cell_type": "markdown",
   "id": "de960872-f534-4c5c-8800-37491778bfe7",
   "metadata": {},
   "source": [
    "# end"
   ]
  }
 ],
 "metadata": {
  "kernelspec": {
   "display_name": "Python 3 (ipykernel)",
   "language": "python",
   "name": "python3"
  },
  "language_info": {
   "codemirror_mode": {
    "name": "ipython",
    "version": 3
   },
   "file_extension": ".py",
   "mimetype": "text/x-python",
   "name": "python",
   "nbconvert_exporter": "python",
   "pygments_lexer": "ipython3",
   "version": "3.10.16"
  }
 },
 "nbformat": 4,
 "nbformat_minor": 5
}
